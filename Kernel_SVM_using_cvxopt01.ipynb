{
  "nbformat": 4,
  "nbformat_minor": 0,
  "metadata": {
    "colab": {
      "provenance": []
    },
    "kernelspec": {
      "name": "python3",
      "display_name": "Python 3"
    },
    "language_info": {
      "name": "python"
    }
  },
  "cells": [
    {
      "cell_type": "code",
      "execution_count": null,
      "metadata": {
        "colab": {
          "base_uri": "https://localhost:8080/"
        },
        "id": "kc7AkZnHtUsp",
        "outputId": "2d9fa8ce-abf8-42f1-ab8a-b964845209a3"
      },
      "outputs": [
        {
          "output_type": "stream",
          "name": "stdout",
          "text": [
            "[[-10.17014071  -4.83120697]\n",
            " [-11.09833168  -2.80862484]\n",
            " [ -9.95549876  -3.37053333]\n",
            " [ -8.86394306  -5.05323981]\n",
            " [  0.08525186   3.64528297]\n",
            " [ -0.79415228   2.10495117]\n",
            " [ -1.34052081   4.15711949]\n",
            " [-10.32012971  -4.3374029 ]\n",
            " [ -2.18773166   3.33352125]\n",
            " [ -0.19745197   2.34634916]] [ 1  1  1  1 -1 -1 -1  1 -1 -1]\n"
          ]
        }
      ],
      "source": [
        "from sklearn.datasets import make_blobs\n",
        "import matplotlib.pyplot as plt\n",
        "import numpy as np\n",
        "\n",
        "plt.style.use('classic')\n",
        "X, y = make_blobs(n_samples=10, random_state=1, centers=2, n_features=2)\n",
        "y[y == 0] = -1\n",
        "print(X,y)"
      ]
    },
    {
      "cell_type": "code",
      "source": [
        "plt.xlabel('$n \\in \\mathbb{R}$')\n",
        "plt.ylabel('$\\mu(n)$')\n",
        "print(np.shape(X))\n",
        "print(np.shape(y))\n",
        "plt.scatter(X.T[0], X.T[1], c=y+1, alpha=.5);"
      ],
      "metadata": {
        "colab": {
          "base_uri": "https://localhost:8080/",
          "height": 494
        },
        "id": "FWvvWvk0tVUJ",
        "outputId": "2d7c367f-6f2d-4493-d9bc-5d7e3d770d11"
      },
      "execution_count": null,
      "outputs": [
        {
          "output_type": "stream",
          "name": "stdout",
          "text": [
            "(10, 2)\n",
            "(10,)\n"
          ]
        },
        {
          "output_type": "display_data",
          "data": {
            "text/plain": [
              "<Figure size 640x480 with 1 Axes>"
            ],
            "image/png": "[encoded data removed]"
          },
          "metadata": {}
        }
      ]
    },
    {
      "cell_type": "code",
      "source": [
        "y = y.reshape(-1, 1)*1.  #to float\n",
        "print(y)\n",
        "print(np.shape(y))"
      ],
      "metadata": {
        "colab": {
          "base_uri": "https://localhost:8080/"
        },
        "id": "lyLBuTS5tVZH",
        "outputId": "594ad82d-96bd-4fd8-c690-d85d3b732682"
      },
      "execution_count": null,
      "outputs": [
        {
          "output_type": "stream",
          "name": "stdout",
          "text": [
            "[[ 1.]\n",
            " [ 1.]\n",
            " [ 1.]\n",
            " [ 1.]\n",
            " [-1.]\n",
            " [-1.]\n",
            " [-1.]\n",
            " [ 1.]\n",
            " [-1.]\n",
            " [-1.]]\n",
            "(10, 1)\n"
          ]
        }
      ]
    },
    {
      "cell_type": "code",
      "source": [
        "X_new=np.vstack([np.ones(len(X)),np.sqrt(2)*X[:,0],np.sqrt(2)*X[:,1],np.square(X[:,0]),np.square(X[:,1]),np.sqrt(2)*X[:,0]*X[:,1]])\n",
        "print(X_new.shape)\n",
        "PhiX=np.transpose(X_new)\n",
        "print(PhiX.shape)"
      ],
      "metadata": {
        "colab": {
          "base_uri": "https://localhost:8080/"
        },
        "id": "ITG4wmcWN0QL",
        "outputId": "b1ffc746-4f37-4d5c-d0b9-9a1a54b32f3f"
      },
      "execution_count": null,
      "outputs": [
        {
          "output_type": "stream",
          "name": "stdout",
          "text": [
            "(6, 10)\n",
            "(10, 6)\n"
          ]
        }
      ]
    },
    {
      "cell_type": "code",
      "source": [
        "from cvxopt import matrix as cvxoptMatrix\n",
        "from cvxopt import solvers as cvxoptSolvers\n",
        "\n",
        "m, n = PhiX.shape\n",
        "print(m,n)\n",
        "# print(Xbar)\n",
        "H = np.dot((y * PhiX), (y * PhiX).T)\n",
        "print((y * PhiX))\n",
        "print((y * PhiX).shape,H.shape)\n",
        "P = cvxoptMatrix(H)\n",
        "# print(\"H = \",H)\n",
        "q = cvxoptMatrix(-np.ones((m, 1)))\n",
        "# print(\"q =\",q)\n",
        "h = cvxoptMatrix(np.zeros(m))\n",
        "# print(\"h =\",h)\n",
        "A = cvxoptMatrix(y.reshape(1, -1))\n",
        "# print(\"A =\",A)\n",
        "b = cvxoptMatrix(np.zeros(1))\n",
        "# print(\"b =\",b)\n",
        "G = cvxoptMatrix(-np.eye(m))\n",
        "# print(\"G =\",G)\n",
        "\n",
        "cvxoptSolvers.options['show_progress'] = True\n",
        "sol = cvxoptSolvers.qp(P, q, G, h, A, b)"
      ],
      "metadata": {
        "colab": {
          "base_uri": "https://localhost:8080/"
        },
        "id": "rKsYwqKmtVbm",
        "outputId": "fe2ef9c7-741b-4681-d3f2-743064d498a1"
      },
      "execution_count": null,
      "outputs": [
        {
          "output_type": "stream",
          "name": "stdout",
          "text": [
            "10 6\n",
            "[[ 1.00000000e+00 -1.43827509e+01 -6.83235841e+00  1.03431762e+02\n",
            "   2.33405607e+01  6.94860464e+01]\n",
            " [ 1.00000000e+00 -1.56954112e+01 -3.97199534e+00  1.23172966e+02\n",
            "   7.88837348e+00  4.40825217e+01]\n",
            " [ 1.00000000e+00 -1.40792014e+01 -4.76665395e+00  9.91119555e+01\n",
            "   1.13604950e+01  4.74544175e+01]\n",
            " [ 1.00000000e+00 -1.25355085e+01 -7.14636028e+00  7.85694866e+01\n",
            "   2.55352326e+01  6.33449306e+01]\n",
            " [-1.00000000e+00 -1.20564334e-01 -5.15520861e+00 -7.26787934e-03\n",
            "  -1.32880879e+01 -4.39491114e-01]\n",
            " [-1.00000000e+00  1.12310092e+00 -2.97685050e+00 -6.30677838e-01\n",
            "  -4.43081944e+00  2.36407260e+00]\n",
            " [-1.00000000e+00  1.89578271e+00 -5.87905477e+00 -1.79699604e+00\n",
            "  -1.72816425e+01  7.88099526e+00]\n",
            " [ 1.00000000e+00 -1.45948674e+01 -6.13401401e+00  1.06505077e+02\n",
            "   1.88130639e+01  6.33038202e+01]\n",
            " [-1.00000000e+00  3.09391978e+00 -4.71431096e+00 -4.78616981e+00\n",
            "  -1.11123639e+01  1.03136473e+01]\n",
            " [-1.00000000e+00  2.79239252e-01 -3.31823880e+00 -3.89872800e-02\n",
            "  -5.50535438e+00  6.55192785e-01]]\n",
            "(10, 6) (10, 10)\n",
            "     pcost       dcost       gap    pres   dres\n",
            " 0: -7.2023e-02 -8.8537e-02  1e+01  4e+00  1e+00\n",
            " 1: -4.3799e-03 -8.5006e-03  3e-01  8e-02  3e-02\n",
            " 2: -5.4094e-04 -8.0213e-04  1e-02  2e-03  8e-04\n",
            " 3: -4.4004e-05 -6.1599e-04  6e-04  9e-06  3e-06\n",
            " 4: -1.7394e-04 -2.4133e-04  7e-05  7e-20  5e-16\n",
            " 5: -1.8486e-04 -1.8973e-04  5e-06  5e-20  4e-16\n",
            " 6: -1.8876e-04 -1.8892e-04  2e-07  5e-20  3e-16\n",
            " 7: -1.8885e-04 -1.8885e-04  2e-09  4e-20  2e-16\n",
            "Optimal solution found.\n"
          ]
        }
      ]
    },
    {
      "cell_type": "code",
      "source": [],
      "metadata": {
        "id": "3N-3bSJANxDF"
      },
      "execution_count": null,
      "outputs": []
    },
    {
      "cell_type": "markdown",
      "source": [],
      "metadata": {
        "id": "moKrd8YsNv7w"
      }
    },
    {
      "cell_type": "code",
      "source": [
        "print(sol)\n",
        "alphas = np.array(sol['x'])\n",
        "bias = np.array(sol['y'])\n",
        "print(alphas,bias)\n",
        "print(alphas.shape,bias.shape)"
      ],
      "metadata": {
        "colab": {
          "base_uri": "https://localhost:8080/"
        },
        "id": "vuMBKPDftVd8",
        "outputId": "f0c5a2b4-6609-4c8b-e1d0-184ccb243f09"
      },
      "execution_count": null,
      "outputs": [
        {
          "output_type": "stream",
          "name": "stdout",
          "text": [
            "{'x': <10x1 matrix, tc='d'>, 'y': <1x1 matrix, tc='d'>, 's': <10x1 matrix, tc='d'>, 'z': <10x1 matrix, tc='d'>, 'status': 'optimal', 'gap': 1.6803395366365052e-09, 'relative gap': 8.897955860077157e-06, 'primal objective': -0.00018884556892170674, 'dual objective': -0.00018884724926124334, 'primal infeasibility': 4.3913364359215133e-20, 'dual infeasibility': 2.4882994615061083e-16, 'primal slack': 3.0652181162877543e-10, 'dual slack': 1.0414634521287785e-06, 'iterations': 7}\n",
            "[[3.72512354e-10]\n",
            " [3.06521812e-10]\n",
            " [1.58044012e-09]\n",
            " [1.88843802e-04]\n",
            " [1.88838010e-04]\n",
            " [2.64848126e-09]\n",
            " [1.40308628e-09]\n",
            " [3.48060331e-10]\n",
            " [1.93101781e-09]\n",
            " [2.41668334e-09]] [[-1.02380089]]\n",
            "(10, 1) (1, 1)\n"
          ]
        }
      ]
    },
    {
      "cell_type": "code",
      "source": [
        "print(y.shape,alphas.shape,(y*alphas).shape,PhiX.shape)\n",
        "w = ((y * alphas).T @ PhiX).reshape(-1,1)\n",
        "print(((y * alphas).T @ PhiX).shape)\n",
        "print(w,w.shape)\n",
        "print(bias,bias.shape)"
      ],
      "metadata": {
        "colab": {
          "base_uri": "https://localhost:8080/"
        },
        "id": "czXSH-RytVf9",
        "outputId": "bf56c741-e06e-46e0-87ce-f53efd8ccdff"
      },
      "execution_count": null,
      "outputs": [
        {
          "output_type": "stream",
          "name": "stdout",
          "text": [
            "(10, 1) (10, 1) (10, 1) (10, 6)\n",
            "(1, 6)\n",
            "[[-4.39133644e-20]\n",
            " [-2.39004542e-03]\n",
            " [-2.32309186e-03]\n",
            " [ 1.48362446e-02]\n",
            " [ 2.31283920e-03]\n",
            " [ 1.18794801e-02]] (6, 1)\n",
            "[[-1.02380089]] (1, 1)\n"
          ]
        }
      ]
    },
    {
      "cell_type": "code",
      "source": [
        "x_min, x_max = X[:, 0].min() - 1, X[:, 0].max() + 1\n",
        "y_min, y_max = X[:, 1].min() - 1, X[:, 1].max() + 1\n",
        "h = 0.02 \n",
        "xx, yy = np.meshgrid(np.arange(x_min, x_max, h), np.arange(y_min, y_max, h))\n",
        "test_data=np.c_[xx.ravel(), yy.ravel()]\n",
        "def project_test(test_data):\n",
        "  test_new=np.vstack([np.ones(len(test_data)),np.sqrt(2)*test_data[:,0],np.sqrt(2)*test_data[:,1],np.square(test_data[:,0]),np.square(test_data[:,1]),np.sqrt(2)*test_data[:,0]*test_data[:,1]])\n",
        "  print(test_new.shape)\n",
        "  PhiX_test=np.transpose(test_new)\n",
        "  print(PhiX_test.shape)\n",
        "  return PhiX_test\n",
        "\n",
        "projected_test_data=project_test(test_data)\n",
        "\n",
        "print(w.shape)\n",
        "print(projected_test_data.shape)\n",
        "test_prediction = projected_test_data @ w + bias\n",
        "print(test_prediction.shape)"
      ],
      "metadata": {
        "colab": {
          "base_uri": "https://localhost:8080/"
        },
        "id": "ClkxZ9_DTNVT",
        "outputId": "c686b443-0d0e-4cd7-b892-90a64deba355"
      },
      "execution_count": null,
      "outputs": [
        {
          "output_type": "stream",
          "name": "stdout",
          "text": [
            "(6, 370260)\n",
            "(370260, 6)\n",
            "(6, 1)\n",
            "(370260, 6)\n",
            "(370260, 1)\n"
          ]
        }
      ]
    },
    {
      "cell_type": "code",
      "source": [
        "Test_predictions=np.sign(test_prediction)\n"
      ],
      "metadata": {
        "id": "WwR9IV0IKkkh"
      },
      "execution_count": null,
      "outputs": []
    },
    {
      "cell_type": "code",
      "source": [
        "Z = Test_predictions.reshape(xx.shape)\n",
        "plt.pcolormesh(xx, yy, Z, cmap=plt.cm.Paired)\n",
        "\n",
        "# Plot also the training points\n",
        "plt.scatter(X[:, 0], X[:, 1], c=y, cmap=plt.cm.Paired, edgecolors=\"k\")\n",
        "plt.title(\"2-Class classification using Support Vector Machine with custom kernel\")\n",
        "plt.axis(\"tight\")\n",
        "plt.show()"
      ],
      "metadata": {
        "colab": {
          "base_uri": "https://localhost:8080/",
          "height": 452
        },
        "id": "AssABHxZShwA",
        "outputId": "bed0032d-394b-4b9a-867f-4c2a741c0802"
      },
      "execution_count": null,
      "outputs": [
        {
          "output_type": "display_data",
          "data": {
            "text/plain": [
              "<Figure size 640x480 with 1 Axes>"
            ],
            "image/png": "[encoded data removed]"
          },
          "metadata": {}
        }
      ]
    },
    {
      "cell_type": "code",
      "source": [],
      "metadata": {
        "id": "hCYKFclZ3Zuk"
      },
      "execution_count": null,
      "outputs": []
    }
  ]
}